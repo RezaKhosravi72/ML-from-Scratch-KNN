{
 "cells": [
  {
   "cell_type": "markdown",
   "id": "53e862d2-2b89-4be3-8825-766ce562a1bd",
   "metadata": {},
   "source": [
    "# The explanation of the KNN classifier code line by line:"
   ]
  },
  {
   "cell_type": "markdown",
   "id": "380c0148-20ae-4512-90c1-7a75600440f2",
   "metadata": {},
   "source": [
    "**Here, we break down the key steps - data loading and splitting, KNN classifier class definition, fitting and predicting phases, and evaluation.**"
   ]
  },
  {
   "cell_type": "markdown",
   "id": "a1eea67c-920a-4956-86e8-52e0e77db6c6",
   "metadata": {},
   "source": [
    "# Imports NumPy for mathematical functions\n",
    "import numpy as np\n",
    "\n",
    "# Load Iris dataset using scikit-learn - for data only, no classifiers used\n",
    "from sklearn import datasets\n",
    "\n",
    "# Load Iris data and separate features and target labels\n",
    "iris = datasets.load_iris()  \n",
    "X, y = iris.data, iris.target\n",
    "\n",
    "# Split data into training and test sets\n",
    "from sklearn.model_selection import train_test_split\n",
    "X_train, X_test, y_train, y_test = train_test_split(X, y, test_size=0.2) \n",
    "\n",
    "# Define KNN classifier class with fit and predict methods\n",
    "class KNN:\n",
    "\n",
    "  # Init constructor takes k value\n",
    "  def __init__(self, k=3):\n",
    "      self.k = k\n",
    "\n",
    "  # Fit method learns patterns from training data \n",
    "  def fit(self, X, y):\n",
    "      self.X_train = X\n",
    "      self.y_train = y\n",
    "\n",
    "  # Predict method calculates distances to K neighbors, returns label  \n",
    "  def predict(self, X):\n",
    "    \n",
    "      # Loop through test samples to predict each label\n",
    "      y_pred = [self._predict(x) for x in X]  \n",
    "\n",
    "      return np.array(y_pred)\n",
    "\n",
    "  # Helper method for predict   \n",
    "  def _predict(self, x):  \n",
    "\n",
    "      \n",
    "      # Calculate distances between test sample and all train samples\n",
    "      distances = [euclidean_distance(x, x_train) for x_train in self.X_train]\n",
    "\n",
    "      # Get k closest training samples  \n",
    "      k_idx = np.argsort(distances)[:self.k]\n",
    "\n",
    "      # Get labels of k neighbors\n",
    "      k_neighbor_labels = [self.y_train[i] for i in k_idx]  \n",
    "\n",
    "      # Return most common label of k neighbors\n",
    "      most_common_label = Counter(k_neighbor_labels).most_common(1)\n",
    "\n",
    "      return most_common_label[0][0]\n",
    "\n",
    "# Function to calculate euclidean distance between samples  \n",
    "def euclidean_distance(a,b):\n",
    "   return np.sqrt(np.sum((a-b)**2)) \n",
    "\n",
    "# Train classifier\n",
    "classifier = KNN(k=3)\n",
    "classifier.fit(X_train, y_train) \n",
    "\n",
    "# Predict test set and evaluate \n",
    "y_pred = classifier.predict(X_test)\n",
    "\n",
    "# confusion matrix and accuracy\n",
    "from sklearn.metrics import confusion_matrix, accuracy_score\n",
    "cm = confusion_matrix(y_test, y_pred)\n",
    "accuracy_score(y_test, y_pred)"
   ]
  }
 ],
 "metadata": {
  "kernelspec": {
   "display_name": "Python 3 (ipykernel)",
   "language": "python",
   "name": "python3"
  },
  "language_info": {
   "codemirror_mode": {
    "name": "ipython",
    "version": 3
   },
   "file_extension": ".py",
   "mimetype": "text/x-python",
   "name": "python",
   "nbconvert_exporter": "python",
   "pygments_lexer": "ipython3",
   "version": "3.11.5"
  }
 },
 "nbformat": 4,
 "nbformat_minor": 5
}
